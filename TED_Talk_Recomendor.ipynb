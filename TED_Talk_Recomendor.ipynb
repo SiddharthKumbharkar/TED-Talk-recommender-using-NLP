{
  "nbformat": 4,
  "nbformat_minor": 0,
  "metadata": {
    "colab": {
      "provenance": [],
      "authorship_tag": "ABX9TyO8cqoGMpMKuJrVQIgafo4U",
      "include_colab_link": true
    },
    "kernelspec": {
      "name": "python3",
      "display_name": "Python 3"
    },
    "language_info": {
      "name": "python"
    }
  },
  "cells": [
    {
      "cell_type": "markdown",
      "metadata": {
        "id": "view-in-github",
        "colab_type": "text"
      },
      "source": [
        "<a href=\"https://colab.research.google.com/github/SiddharthKumbharkar/TED-Talk-recommender-using-NLP/blob/main/TED_Talk_Recomendor.ipynb\" target=\"_parent\"><img src=\"https://colab.research.google.com/assets/colab-badge.svg\" alt=\"Open In Colab\"/></a>"
      ]
    },
    {
      "cell_type": "markdown",
      "source": [
        "##Importing the Libraries"
      ],
      "metadata": {
        "id": "JNwCV7P_Isel"
      }
    },
    {
      "cell_type": "code",
      "execution_count": 1,
      "metadata": {
        "id": "WKIYn3CzZO_c"
      },
      "outputs": [],
      "source": [
        "import pandas as pd\n",
        "import numpy as np\n",
        "import matplotlib as plt"
      ]
    },
    {
      "cell_type": "markdown",
      "source": [
        "##Reading and Evaluating the Dataset"
      ],
      "metadata": {
        "id": "mAtnkskSI5Wg"
      }
    },
    {
      "cell_type": "code",
      "source": [
        "ted = pd.read_csv('tedx_dataset.csv')"
      ],
      "metadata": {
        "id": "orxbHUiqZWuv"
      },
      "execution_count": 2,
      "outputs": []
    },
    {
      "cell_type": "code",
      "source": [
        "ted.head()"
      ],
      "metadata": {
        "colab": {
          "base_uri": "https://localhost:8080/",
          "height": 536
        },
        "id": "QrIxzoROZoD1",
        "outputId": "d398b376-6310-4426-ab1c-8c2215b01de9"
      },
      "execution_count": 3,
      "outputs": [
        {
          "output_type": "execute_result",
          "data": {
            "text/plain": [
              "                                idx       main_speaker  \\\n",
              "0  8d2005ec35280deb6a438dc87b225f89     Alexandra Auer   \n",
              "1  b3072cd11f40eb57fd259555264476c6  Elizabeth Gilbert   \n",
              "2  4adc9fee977fa04c357ed4c9b52aa3cc       Butterscotch   \n",
              "3  59c641a72b495d522a7932145d6c02b3         Ethan Lisi   \n",
              "4  d227f2faf6ec185e54436d86463f499b      Daniel Finkel   \n",
              "\n",
              "                                               title  \\\n",
              "0                    The intangible effects of walls   \n",
              "1  It's OK to feel overwhelmed. Here's what to do...   \n",
              "2                                  \"Accept Who I Am\"   \n",
              "3               What it's really like to have autism   \n",
              "4              Can you solve the sea monster riddle?   \n",
              "\n",
              "                                             details           posted  \\\n",
              "0  More barriers exist now than at the end of Wor...  Posted Apr 2020   \n",
              "1  If you're feeling anxious or fearful during th...  Posted Apr 2020   \n",
              "2  Firing off her formidable beatboxing skills, m...  Posted Apr 2020   \n",
              "3  \"Autism is not a disease; it's just another wa...  Posted Apr 2020   \n",
              "4  According to legend, once every thousand years...  Posted Apr 2020   \n",
              "\n",
              "                                                 url  num_views  \n",
              "0  https://www.ted.com/talks/alexandra_auer_the_i...        NaN  \n",
              "1  https://www.ted.com/talks/elizabeth_gilbert_it...        NaN  \n",
              "2  https://www.ted.com/talks/butterscotch_accept_...        0.0  \n",
              "3  https://www.ted.com/talks/ethan_lisi_what_it_s...        NaN  \n",
              "4  https://www.ted.com/talks/daniel_finkel_can_yo...        0.0  "
            ],
            "text/html": [
              "\n",
              "  <div id=\"df-d7274a41-3c7e-45f5-ae99-b7bb36496020\" class=\"colab-df-container\">\n",
              "    <div>\n",
              "<style scoped>\n",
              "    .dataframe tbody tr th:only-of-type {\n",
              "        vertical-align: middle;\n",
              "    }\n",
              "\n",
              "    .dataframe tbody tr th {\n",
              "        vertical-align: top;\n",
              "    }\n",
              "\n",
              "    .dataframe thead th {\n",
              "        text-align: right;\n",
              "    }\n",
              "</style>\n",
              "<table border=\"1\" class=\"dataframe\">\n",
              "  <thead>\n",
              "    <tr style=\"text-align: right;\">\n",
              "      <th></th>\n",
              "      <th>idx</th>\n",
              "      <th>main_speaker</th>\n",
              "      <th>title</th>\n",
              "      <th>details</th>\n",
              "      <th>posted</th>\n",
              "      <th>url</th>\n",
              "      <th>num_views</th>\n",
              "    </tr>\n",
              "  </thead>\n",
              "  <tbody>\n",
              "    <tr>\n",
              "      <th>0</th>\n",
              "      <td>8d2005ec35280deb6a438dc87b225f89</td>\n",
              "      <td>Alexandra Auer</td>\n",
              "      <td>The intangible effects of walls</td>\n",
              "      <td>More barriers exist now than at the end of Wor...</td>\n",
              "      <td>Posted Apr 2020</td>\n",
              "      <td>https://www.ted.com/talks/alexandra_auer_the_i...</td>\n",
              "      <td>NaN</td>\n",
              "    </tr>\n",
              "    <tr>\n",
              "      <th>1</th>\n",
              "      <td>b3072cd11f40eb57fd259555264476c6</td>\n",
              "      <td>Elizabeth Gilbert</td>\n",
              "      <td>It's OK to feel overwhelmed. Here's what to do...</td>\n",
              "      <td>If you're feeling anxious or fearful during th...</td>\n",
              "      <td>Posted Apr 2020</td>\n",
              "      <td>https://www.ted.com/talks/elizabeth_gilbert_it...</td>\n",
              "      <td>NaN</td>\n",
              "    </tr>\n",
              "    <tr>\n",
              "      <th>2</th>\n",
              "      <td>4adc9fee977fa04c357ed4c9b52aa3cc</td>\n",
              "      <td>Butterscotch</td>\n",
              "      <td>\"Accept Who I Am\"</td>\n",
              "      <td>Firing off her formidable beatboxing skills, m...</td>\n",
              "      <td>Posted Apr 2020</td>\n",
              "      <td>https://www.ted.com/talks/butterscotch_accept_...</td>\n",
              "      <td>0.0</td>\n",
              "    </tr>\n",
              "    <tr>\n",
              "      <th>3</th>\n",
              "      <td>59c641a72b495d522a7932145d6c02b3</td>\n",
              "      <td>Ethan Lisi</td>\n",
              "      <td>What it's really like to have autism</td>\n",
              "      <td>\"Autism is not a disease; it's just another wa...</td>\n",
              "      <td>Posted Apr 2020</td>\n",
              "      <td>https://www.ted.com/talks/ethan_lisi_what_it_s...</td>\n",
              "      <td>NaN</td>\n",
              "    </tr>\n",
              "    <tr>\n",
              "      <th>4</th>\n",
              "      <td>d227f2faf6ec185e54436d86463f499b</td>\n",
              "      <td>Daniel Finkel</td>\n",
              "      <td>Can you solve the sea monster riddle?</td>\n",
              "      <td>According to legend, once every thousand years...</td>\n",
              "      <td>Posted Apr 2020</td>\n",
              "      <td>https://www.ted.com/talks/daniel_finkel_can_yo...</td>\n",
              "      <td>0.0</td>\n",
              "    </tr>\n",
              "  </tbody>\n",
              "</table>\n",
              "</div>\n",
              "    <div class=\"colab-df-buttons\">\n",
              "\n",
              "  <div class=\"colab-df-container\">\n",
              "    <button class=\"colab-df-convert\" onclick=\"convertToInteractive('df-d7274a41-3c7e-45f5-ae99-b7bb36496020')\"\n",
              "            title=\"Convert this dataframe to an interactive table.\"\n",
              "            style=\"display:none;\">\n",
              "\n",
              "  <svg xmlns=\"http://www.w3.org/2000/svg\" height=\"24px\" viewBox=\"0 -960 960 960\">\n",
              "    <path d=\"M120-120v-720h720v720H120Zm60-500h600v-160H180v160Zm220 220h160v-160H400v160Zm0 220h160v-160H400v160ZM180-400h160v-160H180v160Zm440 0h160v-160H620v160ZM180-180h160v-160H180v160Zm440 0h160v-160H620v160Z\"/>\n",
              "  </svg>\n",
              "    </button>\n",
              "\n",
              "  <style>\n",
              "    .colab-df-container {\n",
              "      display:flex;\n",
              "      gap: 12px;\n",
              "    }\n",
              "\n",
              "    .colab-df-convert {\n",
              "      background-color: #E8F0FE;\n",
              "      border: none;\n",
              "      border-radius: 50%;\n",
              "      cursor: pointer;\n",
              "      display: none;\n",
              "      fill: #1967D2;\n",
              "      height: 32px;\n",
              "      padding: 0 0 0 0;\n",
              "      width: 32px;\n",
              "    }\n",
              "\n",
              "    .colab-df-convert:hover {\n",
              "      background-color: #E2EBFA;\n",
              "      box-shadow: 0px 1px 2px rgba(60, 64, 67, 0.3), 0px 1px 3px 1px rgba(60, 64, 67, 0.15);\n",
              "      fill: #174EA6;\n",
              "    }\n",
              "\n",
              "    .colab-df-buttons div {\n",
              "      margin-bottom: 4px;\n",
              "    }\n",
              "\n",
              "    [theme=dark] .colab-df-convert {\n",
              "      background-color: #3B4455;\n",
              "      fill: #D2E3FC;\n",
              "    }\n",
              "\n",
              "    [theme=dark] .colab-df-convert:hover {\n",
              "      background-color: #434B5C;\n",
              "      box-shadow: 0px 1px 3px 1px rgba(0, 0, 0, 0.15);\n",
              "      filter: drop-shadow(0px 1px 2px rgba(0, 0, 0, 0.3));\n",
              "      fill: #FFFFFF;\n",
              "    }\n",
              "  </style>\n",
              "\n",
              "    <script>\n",
              "      const buttonEl =\n",
              "        document.querySelector('#df-d7274a41-3c7e-45f5-ae99-b7bb36496020 button.colab-df-convert');\n",
              "      buttonEl.style.display =\n",
              "        google.colab.kernel.accessAllowed ? 'block' : 'none';\n",
              "\n",
              "      async function convertToInteractive(key) {\n",
              "        const element = document.querySelector('#df-d7274a41-3c7e-45f5-ae99-b7bb36496020');\n",
              "        const dataTable =\n",
              "          await google.colab.kernel.invokeFunction('convertToInteractive',\n",
              "                                                    [key], {});\n",
              "        if (!dataTable) return;\n",
              "\n",
              "        const docLinkHtml = 'Like what you see? Visit the ' +\n",
              "          '<a target=\"_blank\" href=https://colab.research.google.com/notebooks/data_table.ipynb>data table notebook</a>'\n",
              "          + ' to learn more about interactive tables.';\n",
              "        element.innerHTML = '';\n",
              "        dataTable['output_type'] = 'display_data';\n",
              "        await google.colab.output.renderOutput(dataTable, element);\n",
              "        const docLink = document.createElement('div');\n",
              "        docLink.innerHTML = docLinkHtml;\n",
              "        element.appendChild(docLink);\n",
              "      }\n",
              "    </script>\n",
              "  </div>\n",
              "\n",
              "\n",
              "<div id=\"df-1b1006b3-a367-4c30-a973-52d524bd4e43\">\n",
              "  <button class=\"colab-df-quickchart\" onclick=\"quickchart('df-1b1006b3-a367-4c30-a973-52d524bd4e43')\"\n",
              "            title=\"Suggest charts\"\n",
              "            style=\"display:none;\">\n",
              "\n",
              "<svg xmlns=\"http://www.w3.org/2000/svg\" height=\"24px\"viewBox=\"0 0 24 24\"\n",
              "     width=\"24px\">\n",
              "    <g>\n",
              "        <path d=\"M19 3H5c-1.1 0-2 .9-2 2v14c0 1.1.9 2 2 2h14c1.1 0 2-.9 2-2V5c0-1.1-.9-2-2-2zM9 17H7v-7h2v7zm4 0h-2V7h2v10zm4 0h-2v-4h2v4z\"/>\n",
              "    </g>\n",
              "</svg>\n",
              "  </button>\n",
              "\n",
              "<style>\n",
              "  .colab-df-quickchart {\n",
              "      --bg-color: #E8F0FE;\n",
              "      --fill-color: #1967D2;\n",
              "      --hover-bg-color: #E2EBFA;\n",
              "      --hover-fill-color: #174EA6;\n",
              "      --disabled-fill-color: #AAA;\n",
              "      --disabled-bg-color: #DDD;\n",
              "  }\n",
              "\n",
              "  [theme=dark] .colab-df-quickchart {\n",
              "      --bg-color: #3B4455;\n",
              "      --fill-color: #D2E3FC;\n",
              "      --hover-bg-color: #434B5C;\n",
              "      --hover-fill-color: #FFFFFF;\n",
              "      --disabled-bg-color: #3B4455;\n",
              "      --disabled-fill-color: #666;\n",
              "  }\n",
              "\n",
              "  .colab-df-quickchart {\n",
              "    background-color: var(--bg-color);\n",
              "    border: none;\n",
              "    border-radius: 50%;\n",
              "    cursor: pointer;\n",
              "    display: none;\n",
              "    fill: var(--fill-color);\n",
              "    height: 32px;\n",
              "    padding: 0;\n",
              "    width: 32px;\n",
              "  }\n",
              "\n",
              "  .colab-df-quickchart:hover {\n",
              "    background-color: var(--hover-bg-color);\n",
              "    box-shadow: 0 1px 2px rgba(60, 64, 67, 0.3), 0 1px 3px 1px rgba(60, 64, 67, 0.15);\n",
              "    fill: var(--button-hover-fill-color);\n",
              "  }\n",
              "\n",
              "  .colab-df-quickchart-complete:disabled,\n",
              "  .colab-df-quickchart-complete:disabled:hover {\n",
              "    background-color: var(--disabled-bg-color);\n",
              "    fill: var(--disabled-fill-color);\n",
              "    box-shadow: none;\n",
              "  }\n",
              "\n",
              "  .colab-df-spinner {\n",
              "    border: 2px solid var(--fill-color);\n",
              "    border-color: transparent;\n",
              "    border-bottom-color: var(--fill-color);\n",
              "    animation:\n",
              "      spin 1s steps(1) infinite;\n",
              "  }\n",
              "\n",
              "  @keyframes spin {\n",
              "    0% {\n",
              "      border-color: transparent;\n",
              "      border-bottom-color: var(--fill-color);\n",
              "      border-left-color: var(--fill-color);\n",
              "    }\n",
              "    20% {\n",
              "      border-color: transparent;\n",
              "      border-left-color: var(--fill-color);\n",
              "      border-top-color: var(--fill-color);\n",
              "    }\n",
              "    30% {\n",
              "      border-color: transparent;\n",
              "      border-left-color: var(--fill-color);\n",
              "      border-top-color: var(--fill-color);\n",
              "      border-right-color: var(--fill-color);\n",
              "    }\n",
              "    40% {\n",
              "      border-color: transparent;\n",
              "      border-right-color: var(--fill-color);\n",
              "      border-top-color: var(--fill-color);\n",
              "    }\n",
              "    60% {\n",
              "      border-color: transparent;\n",
              "      border-right-color: var(--fill-color);\n",
              "    }\n",
              "    80% {\n",
              "      border-color: transparent;\n",
              "      border-right-color: var(--fill-color);\n",
              "      border-bottom-color: var(--fill-color);\n",
              "    }\n",
              "    90% {\n",
              "      border-color: transparent;\n",
              "      border-bottom-color: var(--fill-color);\n",
              "    }\n",
              "  }\n",
              "</style>\n",
              "\n",
              "  <script>\n",
              "    async function quickchart(key) {\n",
              "      const quickchartButtonEl =\n",
              "        document.querySelector('#' + key + ' button');\n",
              "      quickchartButtonEl.disabled = true;  // To prevent multiple clicks.\n",
              "      quickchartButtonEl.classList.add('colab-df-spinner');\n",
              "      try {\n",
              "        const charts = await google.colab.kernel.invokeFunction(\n",
              "            'suggestCharts', [key], {});\n",
              "      } catch (error) {\n",
              "        console.error('Error during call to suggestCharts:', error);\n",
              "      }\n",
              "      quickchartButtonEl.classList.remove('colab-df-spinner');\n",
              "      quickchartButtonEl.classList.add('colab-df-quickchart-complete');\n",
              "    }\n",
              "    (() => {\n",
              "      let quickchartButtonEl =\n",
              "        document.querySelector('#df-1b1006b3-a367-4c30-a973-52d524bd4e43 button');\n",
              "      quickchartButtonEl.style.display =\n",
              "        google.colab.kernel.accessAllowed ? 'block' : 'none';\n",
              "    })();\n",
              "  </script>\n",
              "</div>\n",
              "\n",
              "    </div>\n",
              "  </div>\n"
            ],
            "application/vnd.google.colaboratory.intrinsic+json": {
              "type": "dataframe",
              "variable_name": "ted",
              "summary": "{\n  \"name\": \"ted\",\n  \"rows\": 4467,\n  \"fields\": [\n    {\n      \"column\": \"idx\",\n      \"properties\": {\n        \"dtype\": \"string\",\n        \"num_unique_values\": 4467,\n        \"samples\": [\n          \"10fb34eb3016966d0264897d715a2b98\",\n          \"d31a59d0af64ee7725d912605bd40a57\",\n          \"dccd37ce7c1cb602510ea4d4a1fcca12\"\n        ],\n        \"semantic_type\": \"\",\n        \"description\": \"\"\n      }\n    },\n    {\n      \"column\": \"main_speaker\",\n      \"properties\": {\n        \"dtype\": \"string\",\n        \"num_unique_values\": 3732,\n        \"samples\": [\n          \"Joe Smith\",\n          \"Michael Molina\",\n          \"Michael Murphy\"\n        ],\n        \"semantic_type\": \"\",\n        \"description\": \"\"\n      }\n    },\n    {\n      \"column\": \"title\",\n      \"properties\": {\n        \"dtype\": \"string\",\n        \"num_unique_values\": 4467,\n        \"samples\": [\n          \"The psychological impact of child separation at the US-Mexico border\",\n          \"The power of creative constraints\",\n          \"What do babies think?\"\n        ],\n        \"semantic_type\": \"\",\n        \"description\": \"\"\n      }\n    },\n    {\n      \"column\": \"details\",\n      \"properties\": {\n        \"dtype\": \"string\",\n        \"num_unique_values\": 4467,\n        \"samples\": [\n          \"How does psychological trauma affect children's developing brains? In this powerful talk, social worker Luis H. Zayas discusses his work with refugees and asylum-seeking families at the US-Mexico border. What emerges is a stunning analysis of the long-term impact of the US's controversial detention and child separation policies -- and practical steps for how the country can do better. \",\n          \"Imagine you were asked to invent something new. It could be whatever you want, made from anything you choose, in any shape or size. That kind of creative freedom sounds so liberating, doesn't it? Or ... does it? if you're like most people you'd probably be paralyzed by this task. Why? Brandon Rodriguez explains how creative constraints actually help drive discovery and innovation. [Directed by B\\u00e1lint Farkas Gelley, narrated by Addison Anderson].\",\n          \"\\\"Babies and young children are like the R&amp;D division of the human species,\\\" says psychologist Alison Gopnik. Her research explores the sophisticated intelligence-gathering and decision-making that babies are really doing when they play.\"\n        ],\n        \"semantic_type\": \"\",\n        \"description\": \"\"\n      }\n    },\n    {\n      \"column\": \"posted\",\n      \"properties\": {\n        \"dtype\": \"category\",\n        \"num_unique_values\": 166,\n        \"samples\": [\n          \"Posted Dec 2011\",\n          \"Posted Dec 2008\",\n          \"Posted Oct 2013\"\n        ],\n        \"semantic_type\": \"\",\n        \"description\": \"\"\n      }\n    },\n    {\n      \"column\": \"url\",\n      \"properties\": {\n        \"dtype\": \"string\",\n        \"num_unique_values\": 4467,\n        \"samples\": [\n          \"https://www.ted.com/talks/luis_h_zayas_the_psychological_impact_of_child_separation_at_the_us_mexico_border\",\n          \"https://www.ted.com/talks/brandon_rodriguez_the_power_of_creative_constraints\",\n          \"https://www.ted.com/talks/alison_gopnik_what_do_babies_think\"\n        ],\n        \"semantic_type\": \"\",\n        \"description\": \"\"\n      }\n    },\n    {\n      \"column\": \"num_views\",\n      \"properties\": {\n        \"dtype\": \"number\",\n        \"std\": 0.0,\n        \"min\": 0.0,\n        \"max\": 0.0,\n        \"num_unique_values\": 1,\n        \"samples\": [\n          0.0\n        ],\n        \"semantic_type\": \"\",\n        \"description\": \"\"\n      }\n    }\n  ]\n}"
            }
          },
          "metadata": {},
          "execution_count": 3
        }
      ]
    },
    {
      "cell_type": "code",
      "source": [
        "ted.shape"
      ],
      "metadata": {
        "colab": {
          "base_uri": "https://localhost:8080/"
        },
        "id": "wOS_kkOoZujk",
        "outputId": "81ec587b-4254-4999-b156-f149d3a6d337"
      },
      "execution_count": 4,
      "outputs": [
        {
          "output_type": "execute_result",
          "data": {
            "text/plain": [
              "(4467, 7)"
            ]
          },
          "metadata": {},
          "execution_count": 4
        }
      ]
    },
    {
      "cell_type": "code",
      "source": [
        "ted.isnull().sum()"
      ],
      "metadata": {
        "colab": {
          "base_uri": "https://localhost:8080/",
          "height": 303
        },
        "id": "Blr9Vab9Z62-",
        "outputId": "a9f3c2a3-5890-4854-b7d5-9b746de8ac28"
      },
      "execution_count": 5,
      "outputs": [
        {
          "output_type": "execute_result",
          "data": {
            "text/plain": [
              "idx                0\n",
              "main_speaker       1\n",
              "title              0\n",
              "details            0\n",
              "posted             0\n",
              "url                0\n",
              "num_views       4258\n",
              "dtype: int64"
            ],
            "text/html": [
              "<div>\n",
              "<style scoped>\n",
              "    .dataframe tbody tr th:only-of-type {\n",
              "        vertical-align: middle;\n",
              "    }\n",
              "\n",
              "    .dataframe tbody tr th {\n",
              "        vertical-align: top;\n",
              "    }\n",
              "\n",
              "    .dataframe thead th {\n",
              "        text-align: right;\n",
              "    }\n",
              "</style>\n",
              "<table border=\"1\" class=\"dataframe\">\n",
              "  <thead>\n",
              "    <tr style=\"text-align: right;\">\n",
              "      <th></th>\n",
              "      <th>0</th>\n",
              "    </tr>\n",
              "  </thead>\n",
              "  <tbody>\n",
              "    <tr>\n",
              "      <th>idx</th>\n",
              "      <td>0</td>\n",
              "    </tr>\n",
              "    <tr>\n",
              "      <th>main_speaker</th>\n",
              "      <td>1</td>\n",
              "    </tr>\n",
              "    <tr>\n",
              "      <th>title</th>\n",
              "      <td>0</td>\n",
              "    </tr>\n",
              "    <tr>\n",
              "      <th>details</th>\n",
              "      <td>0</td>\n",
              "    </tr>\n",
              "    <tr>\n",
              "      <th>posted</th>\n",
              "      <td>0</td>\n",
              "    </tr>\n",
              "    <tr>\n",
              "      <th>url</th>\n",
              "      <td>0</td>\n",
              "    </tr>\n",
              "    <tr>\n",
              "      <th>num_views</th>\n",
              "      <td>4258</td>\n",
              "    </tr>\n",
              "  </tbody>\n",
              "</table>\n",
              "</div><br><label><b>dtype:</b> int64</label>"
            ]
          },
          "metadata": {},
          "execution_count": 5
        }
      ]
    },
    {
      "cell_type": "markdown",
      "source": [
        "##Data Preprocessing"
      ],
      "metadata": {
        "id": "QjnTHRIHI-nf"
      }
    },
    {
      "cell_type": "code",
      "source": [
        "ted['details'] =  ted['title'] + ' ' + ted['details']\n",
        "\n",
        "ted = ted[['main_speaker', 'details']]\n",
        "ted.dropna(inplace = True)\n"
      ],
      "metadata": {
        "colab": {
          "base_uri": "https://localhost:8080/"
        },
        "id": "avNYy4UKaPfF",
        "outputId": "58ae9bb6-9e21-4e2d-b406-abd5d3949e77"
      },
      "execution_count": 6,
      "outputs": [
        {
          "output_type": "stream",
          "name": "stderr",
          "text": [
            "<ipython-input-6-229d58c7b46b>:4: SettingWithCopyWarning: \n",
            "A value is trying to be set on a copy of a slice from a DataFrame\n",
            "\n",
            "See the caveats in the documentation: https://pandas.pydata.org/pandas-docs/stable/user_guide/indexing.html#returning-a-view-versus-a-copy\n",
            "  ted.dropna(inplace = True)\n"
          ]
        }
      ]
    },
    {
      "cell_type": "code",
      "source": [
        "print(len(ted['details']))\n"
      ],
      "metadata": {
        "colab": {
          "base_uri": "https://localhost:8080/"
        },
        "id": "4V1YYAmdkJdP",
        "outputId": "f60beb80-7cad-4bb7-cb4b-1d68183e76aa"
      },
      "execution_count": 7,
      "outputs": [
        {
          "output_type": "stream",
          "name": "stdout",
          "text": [
            "4466\n"
          ]
        }
      ]
    },
    {
      "cell_type": "code",
      "source": [
        "data = ted.copy()"
      ],
      "metadata": {
        "id": "4SfvnmW4tMeQ"
      },
      "execution_count": 8,
      "outputs": []
    },
    {
      "source": [
        "import re\n",
        "import nltk\n",
        "nltk.download('stopwords')\n",
        "from nltk.corpus import stopwords\n",
        "from nltk.stem.porter import PorterStemmer\n",
        "corpus = []\n",
        "\n",
        "for i in ted.index:\n",
        "    review = re.sub('[^a-zA-Z]', ' ', ted.loc[i, 'details'])\n",
        "    review = review.lower()\n",
        "    review = review.split()\n",
        "    ps = PorterStemmer()\n",
        "    review = [ps.stem(word) for word in review if not word in set(stopwords.words('english'))]\n",
        "    review = ' '.join(review)\n",
        "    corpus.append(review)"
      ],
      "cell_type": "code",
      "metadata": {
        "colab": {
          "base_uri": "https://localhost:8080/"
        },
        "id": "nV4oahtilprp",
        "outputId": "5c16888a-b0c9-4347-c510-e9872e849a29"
      },
      "execution_count": 9,
      "outputs": [
        {
          "output_type": "stream",
          "name": "stderr",
          "text": [
            "[nltk_data] Downloading package stopwords to /root/nltk_data...\n",
            "[nltk_data]   Unzipping corpora/stopwords.zip.\n"
          ]
        }
      ]
    },
    {
      "cell_type": "code",
      "source": [
        "print(corpus[:5])\n"
      ],
      "metadata": {
        "colab": {
          "base_uri": "https://localhost:8080/"
        },
        "id": "MWKWl_J4zHVg",
        "outputId": "da1eb987-e7b2-4f61-f2c1-ffb4cfef550b"
      },
      "execution_count": 10,
      "outputs": [
        {
          "output_type": "stream",
          "name": "stdout",
          "text": [
            "['intang effect wall barrier exist end world war ii say design alexandra auer erect one wall unwittingli creat second us versu partit mind compromis collect safeti intrigu result social design project focus two elementari school separ fenc auer encourag us dismantl bias regain perspect thing common', 'ok feel overwhelm next feel anxiou fear coronaviru pandem alon offer hope understand author elizabeth gilbert reflect stay present accept grief come trust strength human spirit resili share genet inherit say virtual convers part ted connect seri host head ted chri anderson head curat helen walter record april', 'accept fire formid beatbox skill musician butterscotch serenad hauntingli beauti backtrack made live stage share piec stori shoutout struggl dark time compassion allow accept even worst day still best say', 'realli like autism autism diseas anoth way think say ethan lisi offer glimps way experi world lisi break mislead stereotyp autism share insight common behavior like stim mask promot inclus understand spectrum', 'solv sea monster riddl accord legend everi thousand year host sea monster emerg depth demand tribut float citi atlantartica ruler citi alway dismiss stori today rose roil water surround citi demand ransom pearl figur chest pearl ransom dan finkel show direct artrak studio narrat addison anderson']\n"
          ]
        }
      ]
    },
    {
      "cell_type": "code",
      "source": [
        "from sklearn.feature_extraction.text import TfidfVectorizer\n",
        "vectorizer = TfidfVectorizer(max_features=5000, stop_words='english')\n",
        "X = vectorizer.fit_transform(corpus).toarray()\n",
        "\n",
        "print(X.shape)"
      ],
      "metadata": {
        "colab": {
          "base_uri": "https://localhost:8080/"
        },
        "id": "U0Z8nYGbyZVO",
        "outputId": "426db989-2b7a-416e-a55e-064841cc65f3"
      },
      "execution_count": 11,
      "outputs": [
        {
          "output_type": "stream",
          "name": "stdout",
          "text": [
            "(4466, 5000)\n"
          ]
        }
      ]
    },
    {
      "cell_type": "markdown",
      "source": [
        "##Training the Model"
      ],
      "metadata": {
        "id": "B3pgWDmxJOpo"
      }
    },
    {
      "cell_type": "code",
      "source": [
        "from sklearn.metrics.pairwise import cosine_similarity\n",
        "\n",
        "cosine_sim = cosine_similarity(X)\n",
        "\n",
        "print(cosine_sim.shape)\n"
      ],
      "metadata": {
        "colab": {
          "base_uri": "https://localhost:8080/"
        },
        "id": "OPdho8MuL_LU",
        "outputId": "6868c120-e367-4a6b-fccd-a7ac0886c980"
      },
      "execution_count": 12,
      "outputs": [
        {
          "output_type": "stream",
          "name": "stdout",
          "text": [
            "(4466, 4466)\n"
          ]
        }
      ]
    },
    {
      "cell_type": "code",
      "source": [
        "def recommend_talk(user_input, n=5):\n",
        "\n",
        "    user_input = re.sub('[^a-zA-Z]', ' ', user_input)\n",
        "    user_input = user_input.lower()\n",
        "    user_input = user_input.split()\n",
        "    user_input = [ps.stem(word) for word in user_input if word not in set(stopwords.words('english'))]\n",
        "    user_input = ' '.join(user_input)\n",
        "\n",
        "    user_input_vec = vectorizer.transform([user_input]).toarray()\n",
        "\n",
        "    user_sim = cosine_similarity(user_input_vec, X).flatten()\n",
        "\n",
        "    sim_indices = user_sim.argsort()[-n:][::-1]\n",
        "\n",
        "    return ted.iloc[sim_indices][['main_speaker', 'details']]\n",
        "\n"
      ],
      "metadata": {
        "id": "keE1lCGKNxo5"
      },
      "execution_count": 13,
      "outputs": []
    },
    {
      "cell_type": "markdown",
      "source": [
        "##Giving top 5 recommendations"
      ],
      "metadata": {
        "id": "c5UUemKBJtTQ"
      }
    },
    {
      "cell_type": "code",
      "source": [
        "user_input = input(\"Enter a topic you're interested in: \")\n",
        "recommended_talks = recommend_talk(user_input, n=5)\n",
        "\n",
        "print(\"Recommended TED Talks based on your interest:\")\n",
        "print(recommended_talks)"
      ],
      "metadata": {
        "colab": {
          "base_uri": "https://localhost:8080/"
        },
        "id": "K0axVmf8JSjP",
        "outputId": "073218bc-9bb5-4e16-90f4-1c636f092b21"
      },
      "execution_count": 14,
      "outputs": [
        {
          "output_type": "stream",
          "name": "stdout",
          "text": [
            "Enter a topic you're interested in: finance and money\n",
            "Recommended TED Talks based on your interest:\n",
            "          main_speaker                                            details\n",
            "100   Thasunda Duckett  6 ways to improve your relationship with money...\n",
            "993        Tammy Lally  Let's get honest about our money problems Stru...\n",
            "918       Adam Carroll  What playing Monopoly with real money taught m...\n",
            "1861      Don Tapscott  How the blockchain is changing money and busin...\n",
            "768   Wendy De La Rosa  3 psychological tricks to help you save money ...\n"
          ]
        }
      ]
    }
  ]
}